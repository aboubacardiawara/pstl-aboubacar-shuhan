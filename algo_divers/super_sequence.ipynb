{
 "cells": [
  {
   "cell_type": "code",
   "execution_count": 4,
   "metadata": {},
   "outputs": [],
   "source": [
    "import doctest\n"
   ]
  },
  {
   "cell_type": "code",
   "execution_count": 7,
   "metadata": {},
   "outputs": [],
   "source": [
    "def plus_longue_sous_chaine_commune(s1, s2):\n",
    "    \"\"\"\n",
    "    >>> print(plus_longue_sous_chaine_commune([], []))\n",
    "    []\n",
    "    >>> plus_longue_sous_chaine_commune(['a'], ['']) == []\n",
    "    True\n",
    "    >>> plus_longue_sous_chaine_commune(['a'], ['a']) == ['a']\n",
    "    True\n",
    "    >>> plus_longue_sous_chaine_commune(['a', 'b', 'c', 'd'], ['b', 'c', 'd', 'e']) == ['b', 'c', 'd']\n",
    "    True\n",
    "    \"\"\"\n",
    "\n",
    "    # retourne la plus longue sous chaine commune de s1 et s2\n",
    "    # s1 et s2 sont des listes de caractères. code: \n",
    "    matrice = [[0 for i in range(len(s2)+1)] for j in range(len(s1)+1)]\n",
    "    for i in range(1, len(s1)+1):\n",
    "        for j in range(1, len(s2)+1):\n",
    "            if s1[i-1] == s2[j-1]:\n",
    "                matrice[i][j] = matrice[i-1][j-1] + 1\n",
    "            else:\n",
    "                matrice[i][j] = max(matrice[i-1][j], matrice[i][j-1])\n",
    "    i = len(s1)\n",
    "    j = len(s2)\n",
    "    resultat = []\n",
    "    while i > 0 and j > 0:\n",
    "        if s1[i-1] == s2[j-1]:\n",
    "            resultat.append(s1[i-1])\n",
    "            i -= 1\n",
    "            j -= 1\n",
    "        elif matrice[i-1][j] > matrice[i][j-1]:\n",
    "            i -= 1\n",
    "        else:\n",
    "            j -= 1\n",
    "    resultat.reverse()\n",
    "\n",
    "    return resultat"
   ]
  },
  {
   "cell_type": "code",
   "execution_count": 9,
   "metadata": {},
   "outputs": [
    {
     "data": {
      "text/plain": [
       "['c', 'e']"
      ]
     },
     "execution_count": 9,
     "metadata": {},
     "output_type": "execute_result"
    }
   ],
   "source": [
    "plus_longue_sous_chaine_commune(['a', 'b', 'c', 'd', 'e'], ['c', 'e', 'i', 'j'])"
   ]
  },
  {
   "cell_type": "code",
   "execution_count": 6,
   "metadata": {},
   "outputs": [
    {
     "name": "stdout",
     "output_type": "stream",
     "text": [
      "Trying:\n",
      "    print(plus_longue_sous_chaine_commune([], []))\n",
      "Expecting:\n",
      "    []\n",
      "ok\n",
      "Trying:\n",
      "    plus_longue_sous_chaine_commune(['a'], ['']) == []\n",
      "Expecting:\n",
      "    True\n",
      "ok\n",
      "Trying:\n",
      "    plus_longue_sous_chaine_commune(['a'], ['a']) == ['a']\n",
      "Expecting:\n",
      "    True\n",
      "ok\n",
      "Trying:\n",
      "    plus_longue_sous_chaine_commune(['a', 'b', 'c', 'd'], ['b', 'c', 'd', 'e']) == ['b', 'c', 'd']\n",
      "Expecting:\n",
      "    True\n",
      "ok\n",
      "1 items had no tests:\n",
      "    __main__\n",
      "1 items passed all tests:\n",
      "   4 tests in __main__.plus_longue_sous_chaine_commune\n",
      "4 tests in 2 items.\n",
      "4 passed and 0 failed.\n",
      "Test passed.\n"
     ]
    },
    {
     "data": {
      "text/plain": [
       "TestResults(failed=0, attempted=4)"
      ]
     },
     "execution_count": 6,
     "metadata": {},
     "output_type": "execute_result"
    }
   ],
   "source": [
    "doctest.testmod(verbose=True)"
   ]
  }
 ],
 "metadata": {
  "kernelspec": {
   "display_name": "Python 3",
   "language": "python",
   "name": "python3"
  },
  "language_info": {
   "codemirror_mode": {
    "name": "ipython",
    "version": 3
   },
   "file_extension": ".py",
   "mimetype": "text/x-python",
   "name": "python",
   "nbconvert_exporter": "python",
   "pygments_lexer": "ipython3",
   "version": "3.9.13"
  },
  "orig_nbformat": 4
 },
 "nbformat": 4,
 "nbformat_minor": 2
}
