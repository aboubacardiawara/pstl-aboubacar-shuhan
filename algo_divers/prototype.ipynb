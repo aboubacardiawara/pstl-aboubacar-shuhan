{
 "cells": [
  {
   "cell_type": "code",
   "execution_count": null,
   "metadata": {},
   "outputs": [],
   "source": []
  },
  {
   "cell_type": "code",
   "execution_count": 108,
   "metadata": {},
   "outputs": [],
   "source": [
    "# a class that represents naire tree\n",
    "class Node:\n",
    "    def __init__(self, name, type) -> None:\n",
    "        self.name = name\n",
    "        self._children = []\n",
    "        self._type = type\n",
    "        self._variabilites = \"obligatoire\" # facultatif\n",
    "\n",
    "    def add_child(self, child):\n",
    "        self._children.append(child)\n",
    "\n",
    "    def get_children(self):\n",
    "        return self._children\n",
    "    \n",
    "    def get_child(self, index):\n",
    "        return self._children[index]\n",
    "    \n",
    "    def get_child_count(self):\n",
    "        return len(self._children)\n",
    "    \n",
    "    def get_name(self):\n",
    "        return self.name\n",
    "    \n",
    "    def get_type(self):\n",
    "        return self._type\n",
    "    \n",
    "    def is_method(self):\n",
    "        return self._type == \"method\"\n",
    "    \n",
    "    def is_class(self):\n",
    "        return self._type == \"class\"\n",
    "    \n",
    "    def __repr__(self) -> str:\n",
    "        return f\"Node({self.name, self._type})({self._children})\"\n",
    "    \n",
    "    def is_field(self):\n",
    "        return self._type == \"field\""
   ]
  },
  {
   "cell_type": "code",
   "execution_count": 109,
   "metadata": {},
   "outputs": [],
   "source": [
    "# class that represents an naire tree\n",
    "class Tree:\n",
    "    def __init__(self, root) -> None:\n",
    "        self.root = root\n",
    "\n",
    "    def __repr__(self) -> str:\n",
    "        return f\"Tree({self.root})\"\n",
    "    \n",
    "    def get_root(self):\n",
    "        return self.root\n",
    "    "
   ]
  },
  {
   "cell_type": "code",
   "execution_count": 110,
   "metadata": {},
   "outputs": [],
   "source": [
    "ast_1 = {\"Account\": [(\"id\", \"field\"), (\"balance\", \"field\"), (\"Account\", \"method\"), (\"deposit\", \"method\"), (\"getAmount\", \"method\"), (\"withdraw\", \"method\")]}\n",
    "\n",
    "ast_2 = {\"Account\": [(\"id\", \"field\"), (\"balance\", \"field\"), (\"Account\", \"method\"), (\"deposit\", \"method\"), (\"getAmount\", \"method\"), (\"withdraw\", \"method\"), (\"limit\", \"field\"), (\"getLimit\", \"method\")]}\n",
    "\n",
    "ast_3 = {\"Account\": [(\"id\", \"field\"), (\"balance\", \"field\"), (\"Account\", \"method\"), (\"deposit\", \"method\"), (\"getAmount\", \"method\"), (\"withdraw\", \"method\"), (\"currency\", \"field\"), (\"getCurrency\", \"method\")]}\n",
    "\n",
    "ast_4 = {\"Account\": [(\"id\", \"field\"), (\"balance\", \"field\"), (\"Account\", \"method\"), (\"deposit\", \"method\"), (\"getAmount\", \"method\"), (\"withdraw\", \"method\"), (\"limit\", \"field\"), (\"getLimit\", \"method\"), (\"currency\", \"field\"), (\"getCurrency\", \"method\")]}\n",
    "\n",
    "ast_as_str = [ast_1, ast_2, ast_3, ast_4]"
   ]
  },
  {
   "cell_type": "code",
   "execution_count": 111,
   "metadata": {},
   "outputs": [
    {
     "name": "stdout",
     "output_type": "stream",
     "text": [
      "Tree(Node(('Account', 'class'))([Node(('id', 'field'))([]), Node(('balance', 'field'))([]), Node(('Account', 'method'))([]), Node(('deposit', 'method'))([]), Node(('getAmount', 'method'))([]), Node(('withdraw', 'method'))([])]))\n"
     ]
    }
   ],
   "source": [
    "# convert ast to tree\n",
    "ast_as_tree = []\n",
    "for ast in ast_as_str:\n",
    "    for key, value in ast.items():\n",
    "        root = Node(key, \"class\")\n",
    "        for item in value:\n",
    "            root.add_child(Node(item[0], item[1]))\n",
    "        ast_as_tree.append(Tree(root))\n",
    "\n",
    "print(ast_as_tree[0])\n",
    "\n",
    "\n"
   ]
  },
  {
   "cell_type": "code",
   "execution_count": 112,
   "metadata": {},
   "outputs": [],
   "source": [
    "def super_sequence_naive(s1, s2):\n",
    "    # union of two lists\n",
    "    d = {}\n",
    "    for node in s1:\n",
    "        d[node.get_name()] = node\n",
    "    for node in s2:\n",
    "        d[node.get_name()] = node\n",
    "    union = list(d.values())\n",
    "    return union\n",
    "\n",
    "    \n",
    "def super_sequence(list1, list2):\n",
    "    return super_sequence_naive(list1, list2)\n",
    "    \n",
    "\n",
    "\n",
    "# now we will write a function to merge two trees\n",
    "def merge_trees(tree1, tree2):\n",
    "    root1 = tree1.get_root()\n",
    "    root2 = tree2.get_root()\n",
    "    if root1.name == root2.name:\n",
    "        children1 = root1.get_children()\n",
    "        children2 = root2.get_children()\n",
    "        # fusionne les enfants\n",
    "        new_children = super_sequence(children1, children2)\n",
    "        new_root = Node(root1.name, root1.get_type())\n",
    "        for child in new_children:\n",
    "            new_root.add_child(child)\n",
    "        return Tree(new_root)\n",
    "    else:\n",
    "        return [tree1, tree2]"
   ]
  },
  {
   "cell_type": "code",
   "execution_count": 113,
   "metadata": {},
   "outputs": [],
   "source": [
    "# now we will write a function to merge a list of trees\n",
    "def merge_list_of_trees(trees):\n",
    "    new_trees = []\n",
    "    for i in range(len(trees)):\n",
    "        for j in range(i + 1, len(trees)):\n",
    "            new_trees.append(merge_trees(trees[i], trees[j]))\n",
    "    return new_trees"
   ]
  },
  {
   "cell_type": "code",
   "execution_count": 114,
   "metadata": {},
   "outputs": [
    {
     "name": "stdout",
     "output_type": "stream",
     "text": [
      "8\n",
      "Tree(Node(('Account', 'class'))([Node(('id', 'field'))([]), Node(('balance', 'field'))([]), Node(('Account', 'method'))([]), Node(('deposit', 'method'))([]), Node(('getAmount', 'method'))([]), Node(('withdraw', 'method'))([]), Node(('limit', 'field'))([]), Node(('getLimit', 'method'))([])]))\n"
     ]
    }
   ],
   "source": [
    "ast_as_tree1 = ast_as_tree.copy()\n",
    "t0 = ast_as_tree1[0]\n",
    "t1 = ast_as_tree1[1]\n",
    "t = merge_trees(t0, t1)\n",
    "print(t.get_root().get_child_count())\n",
    "print(t)"
   ]
  }
 ],
 "metadata": {
  "kernelspec": {
   "display_name": "Python 3",
   "language": "python",
   "name": "python3"
  },
  "language_info": {
   "codemirror_mode": {
    "name": "ipython",
    "version": 3
   },
   "file_extension": ".py",
   "mimetype": "text/x-python",
   "name": "python",
   "nbconvert_exporter": "python",
   "pygments_lexer": "ipython3",
   "version": "3.9.13"
  },
  "orig_nbformat": 4
 },
 "nbformat": 4,
 "nbformat_minor": 2
}
