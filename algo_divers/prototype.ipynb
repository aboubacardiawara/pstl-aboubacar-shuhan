{
 "cells": [
  {
   "cell_type": "code",
   "execution_count": 3,
   "metadata": {},
   "outputs": [],
   "source": [
    "import doctest"
   ]
  },
  {
   "cell_type": "code",
   "execution_count": 4,
   "metadata": {},
   "outputs": [],
   "source": [
    "# a class that represents naire tree\n",
    "class Node:\n",
    "    def __init__(self, name, type) -> None:\n",
    "        self.name = name\n",
    "        self._children = []\n",
    "        self._type = type\n",
    "        self._variabilite = \"F\" # F facultatif\n",
    "    \n",
    "    def add_child(self, child):\n",
    "        self._children.append(child)\n",
    "\n",
    "    def set_variability(self, variabilite):\n",
    "        self._variabilite = variabilite\n",
    "        \n",
    "    def get_children(self):\n",
    "        return self._children\n",
    "    \n",
    "    def get_child(self, index):\n",
    "        return self._children[index]\n",
    "    \n",
    "    def get_child_count(self):\n",
    "        return len(self._children)\n",
    "    \n",
    "    def get_name(self):\n",
    "        return self.name\n",
    "    \n",
    "    def get_type(self):\n",
    "        return self._type\n",
    "    \n",
    "    def is_method(self):\n",
    "        return self._type == \"method\"\n",
    "    \n",
    "    def is_class(self):\n",
    "        return self._type == \"class\"\n",
    "    \n",
    "    def __repr__(self) -> str:\n",
    "        return f\"Node({self.name, self._type, self._variabilite})({self._children})\"\n",
    "    \n",
    "    def is_field(self):\n",
    "        return self._type == \"field\""
   ]
  },
  {
   "cell_type": "code",
   "execution_count": 5,
   "metadata": {},
   "outputs": [],
   "source": [
    "# class that represents an naire tree\n",
    "class Tree:\n",
    "    def __init__(self, root) -> None:\n",
    "        self.root = root\n",
    "\n",
    "    def __repr__(self) -> str:\n",
    "        return f\"Tree({self.root})\"\n",
    "    \n",
    "    def get_root(self):\n",
    "        return self.root\n",
    "    "
   ]
  },
  {
   "cell_type": "code",
   "execution_count": 6,
   "metadata": {},
   "outputs": [],
   "source": [
    "ast_1 = {\"Account\": [(\"id\", \"field\"), (\"balance\", \"field\"), (\"Account\", \"method\"), (\"deposit\", \"method\"), (\"getAmount\", \"method\"), (\"withdraw\", \"method\")]}\n",
    "\n",
    "ast_2 = {\"Account\": [(\"id\", \"field\"), (\"balance\", \"field\"), (\"Account\", \"method\"), (\"deposit\", \"method\"), (\"getAmount\", \"method\"), (\"withdraw\", \"method\"), (\"limit\", \"field\"), (\"getLimit\", \"method\")]}\n",
    "\n",
    "ast_3 = {\"Account\": [(\"id\", \"field\"), (\"balance\", \"field\"), (\"Account\", \"method\"), (\"deposit\", \"method\"), (\"getAmount\", \"method\"), (\"withdraw\", \"method\"), (\"currency\", \"field\"), (\"getCurrency\", \"method\")]}\n",
    "\n",
    "ast_4 = {\"Account\": [(\"id\", \"field\"), (\"balance\", \"field\"), (\"Account\", \"method\"), (\"deposit\", \"method\"), (\"getAmount\", \"method\"), (\"withdraw\", \"method\"), (\"limit\", \"field\"), (\"getLimit\", \"method\"), (\"currency\", \"field\"), (\"getCurrency\", \"method\")]}\n",
    "\n",
    "ast_as_str = [ast_1, ast_2, ast_3, ast_4]"
   ]
  },
  {
   "cell_type": "code",
   "execution_count": 7,
   "metadata": {},
   "outputs": [
    {
     "name": "stdout",
     "output_type": "stream",
     "text": [
      "Tree(Node(('Account', 'class', 'F'))([Node(('id', 'field', 'F'))([]), Node(('balance', 'field', 'F'))([]), Node(('Account', 'method', 'F'))([]), Node(('deposit', 'method', 'F'))([]), Node(('getAmount', 'method', 'F'))([]), Node(('withdraw', 'method', 'F'))([])]))\n"
     ]
    }
   ],
   "source": [
    "# convert ast to tree\n",
    "ast_as_tree = []\n",
    "for ast in ast_as_str:\n",
    "    for key, value in ast.items():\n",
    "        root = Node(key, \"class\")\n",
    "        for item in value:\n",
    "            root.add_child(Node(item[0], item[1]))\n",
    "        ast_as_tree.append(Tree(root))\n",
    "\n",
    "print(ast_as_tree[0])\n",
    "\n",
    "\n"
   ]
  },
  {
   "cell_type": "code",
   "execution_count": 8,
   "metadata": {},
   "outputs": [],
   "source": [
    "def super_sequence_naive(s1, s2):\n",
    "    # union of two lists\n",
    "    d = {}\n",
    "    for node in s1:\n",
    "        d[node.get_name()] = node\n",
    "    for node in s2:\n",
    "        # si le noeud existe deja dans la liste 1\n",
    "        # la variabilité correspond à obligatoire du coup\n",
    "        # seuls les noeuds qui apparaissent \n",
    "        # exactement une fois de part et d'autres restent facultatifs\n",
    "        if node.get_name() in d:\n",
    "            d[node.get_name()].set_variability(\"O\")\n",
    "            if node.get_name() == \"limit\":\n",
    "                print(\"ok\")\n",
    "        else:\n",
    "            d[node.get_name()] = node\n",
    "    union = list(d.values())\n",
    "    return union\n",
    "    \n",
    "def super_sequence(list1, list2):\n",
    "    return super_sequence_naive(list1, list2)\n",
    "    \n",
    "\n",
    "\n",
    "# now we will write a function to merge two trees\n",
    "def merge_trees(tree1, tree2):\n",
    "    root1 = tree1.get_root()\n",
    "    root2 = tree2.get_root()\n",
    "    if root1.name == root2.name:\n",
    "        children1 = root1.get_children()\n",
    "        children2 = root2.get_children()\n",
    "        # fusionne les enfants\n",
    "        new_children = super_sequence(children1, children2)\n",
    "        new_root = Node(root1.name, root1.get_type())\n",
    "        new_root.set_variability(\"O\")\n",
    "        for child in new_children:\n",
    "            new_root.add_child(child)\n",
    "        return Tree(new_root)\n",
    "    else:\n",
    "        return [tree1, tree2]"
   ]
  },
  {
   "cell_type": "code",
   "execution_count": 9,
   "metadata": {},
   "outputs": [],
   "source": [
    "# now we will write a function to merge a list of trees\n",
    "def merge_list_of_trees(trees):\n",
    "    new_trees = []\n",
    "    for i in range(len(trees)):\n",
    "        for j in range(i + 1, len(trees)):\n",
    "            new_trees.append(merge_trees(trees[i], trees[j]))\n",
    "    return new_trees"
   ]
  },
  {
   "cell_type": "code",
   "execution_count": 10,
   "metadata": {},
   "outputs": [],
   "source": [
    "def play_ground():\n",
    "    ast_as_tree1 = ast_as_tree.copy()\n",
    "    t1 = ast_as_tree1[0]\n",
    "    t2 = ast_as_tree1[1]\n",
    "    t3 = ast_as_tree1[2]\n",
    "    t4 = ast_as_tree1[3]\n",
    "\n",
    "    t12 = merge_trees(t1, t2)\n",
    "    t123 = merge_trees(t12, t3)\n",
    "    t1234 = merge_trees(t123, t4)\n",
    "    t = t1234\n",
    "\n",
    "    print(t.get_root().get_child_count())\n",
    "    print(t)"
   ]
  },
  {
   "cell_type": "code",
   "execution_count": 11,
   "metadata": {},
   "outputs": [
    {
     "name": "stdout",
     "output_type": "stream",
     "text": [
      "ok\n",
      "10\n",
      "Tree(Node(('Account', 'class', 'O'))([Node(('id', 'field', 'O'))([]), Node(('balance', 'field', 'O'))([]), Node(('Account', 'method', 'O'))([]), Node(('deposit', 'method', 'O'))([]), Node(('getAmount', 'method', 'O'))([]), Node(('withdraw', 'method', 'O'))([]), Node(('limit', 'field', 'O'))([]), Node(('getLimit', 'method', 'O'))([]), Node(('currency', 'field', 'O'))([]), Node(('getCurrency', 'method', 'O'))([])]))\n"
     ]
    }
   ],
   "source": [
    "play_ground()\n",
    "# doctest.testmod()"
   ]
  },
  {
   "cell_type": "code",
   "execution_count": 15,
   "metadata": {},
   "outputs": [
    {
     "data": {
      "text/plain": [
       "{frozenset({'a', 'b', 'c', 'd', 'e', 'g', 'h', 'k'})}"
      ]
     },
     "execution_count": 15,
     "metadata": {},
     "output_type": "execute_result"
    }
   ],
   "source": [
    "def find_block(products):\n",
    "    '''\n",
    "    >>> p1 = [\"a\", \"b\", \"c\", \"d\", \"e\", \"k\"]\n",
    "    >>> p2 = [\"a\", \"b\", \"c\", \"d\", \"e\", \"g\", \"h\"]\n",
    "    >>> p3 = [\"a\", \"b\", \"k\", \"g\", \"h\"]\n",
    "    >>> find_block([p1, p2, p3])\n",
    "    {{'a', 'b'}, {'c', 'd', 'e'}, {'g', 'h'}, {'k'}}\n",
    "    '''\n",
    "    blocks = []\n",
    "    for product in products:\n",
    "        block = set(product)\n",
    "        i = 0\n",
    "        while i < len(blocks):\n",
    "            if block & blocks[i]:\n",
    "                block |= blocks[i]\n",
    "                del blocks[i]\n",
    "            else:\n",
    "                i += 1\n",
    "        blocks.append(block)\n",
    "    return set(map(frozenset, blocks))\n",
    "\n",
    "\n",
    "#doctest.testmod()\n",
    "p1 = [\"a\", \"b\", \"c\", \"d\", \"e\", \"k\"]\n",
    "p2 = [\"a\", \"b\", \"c\", \"d\", \"e\", \"g\", \"h\"]\n",
    "p3 = [\"a\", \"b\", \"k\", \"g\", \"h\"]\n",
    "find_block([p1, p2, p3])\n"
   ]
  }
 ],
 "metadata": {
  "kernelspec": {
   "display_name": "Python 3",
   "language": "python",
   "name": "python3"
  },
  "language_info": {
   "codemirror_mode": {
    "name": "ipython",
    "version": 3
   },
   "file_extension": ".py",
   "mimetype": "text/x-python",
   "name": "python",
   "nbconvert_exporter": "python",
   "pygments_lexer": "ipython3",
   "version": "3.9.13"
  },
  "orig_nbformat": 4
 },
 "nbformat": 4,
 "nbformat_minor": 2
}
