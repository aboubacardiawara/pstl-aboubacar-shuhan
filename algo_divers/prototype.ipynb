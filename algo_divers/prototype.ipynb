{
 "cells": [
  {
   "cell_type": "code",
   "execution_count": null,
   "metadata": {},
   "outputs": [],
   "source": []
  },
  {
   "cell_type": "code",
   "execution_count": 1,
   "metadata": {},
   "outputs": [],
   "source": [
    "# a class that represents naire tree\n",
    "class Node:\n",
    "    def __init__(self, name, type) -> None:\n",
    "        self.name = name\n",
    "        self._children = []\n",
    "        self._type = type\n",
    "        self._variabilites = \"obligatoire\" # facultatif\n",
    "\n",
    "    def add_child(self, child):\n",
    "        self._children.append(child)\n",
    "\n",
    "    def get_children(self):\n",
    "        return self._children\n",
    "    \n",
    "    def get_child(self, index):\n",
    "        return self._children[index]\n",
    "    \n",
    "    def get_child_count(self):\n",
    "        return len(self._children)\n",
    "    \n",
    "    def __repr__(self) -> str:\n",
    "        return f\"Node({self._children})\"\n",
    "    \n",
    "    def get_type(self):\n",
    "        return self._type\n",
    "    \n",
    "    def is_method(self):\n",
    "        return self._type == \"method\"\n",
    "    \n",
    "    def is_class(self):\n",
    "        return self._type == \"class\"\n",
    "    \n",
    "    def is_field(self):\n",
    "        return self._type == \"field\""
   ]
  },
  {
   "cell_type": "code",
   "execution_count": 4,
   "metadata": {},
   "outputs": [],
   "source": [
    "# class that represents an naire tree\n",
    "class Tree:\n",
    "    def __init__(self, root) -> None:\n",
    "        self.root = root\n",
    "\n",
    "    def __repr__(self) -> str:\n",
    "        return f\"Tree({self.root})\"\n",
    "    \n",
    "    def get_root(self):\n",
    "        return self.root\n",
    "    "
   ]
  },
  {
   "cell_type": "code",
   "execution_count": null,
   "metadata": {},
   "outputs": [],
   "source": [
    "ast_1 = {\"Account\": [(\"id\", \"field\"), (\"balance\", \"field\"), (\"Account\", \"method\"), (\"deposit\", \"method\"), (\"getAmount\", \"method\"), (\"withdraw\", \"method\")]}\n",
    "\n",
    "ast_2 = {\"Account\": [(\"id\", \"field\"), (\"balance\", \"field\"), (\"Account\", \"method\"), (\"deposit\", \"method\"), (\"getAmount\", \"method\"), (\"withdraw\", \"method\"), (\"limit\", \"field\"), (\"getLimit\", \"method\")]}\n",
    "\n",
    "ast_3 = {\"Account\": [(\"id\", \"field\"), (\"balance\", \"field\"), (\"Account\", \"method\"), (\"deposit\", \"method\"), (\"getAmount\", \"method\"), (\"withdraw\", \"method\"), (\"currency\", \"field\"), (\"getCurrency\", \"method\")]}\n",
    "\n",
    "ast_4 = {\"Account\": [(\"id\", \"field\"), (\"balance\", \"field\"), (\"Account\", \"method\"), (\"deposit\", \"method\"), (\"getAmount\", \"method\"), (\"withdraw\", \"method\"), (\"limit\", \"field\"), (\"getLimit\", \"method\"), (\"currency\", \"field\"), (\"getCurrency\", \"method\")]}\n",
    "\n",
    "ast_as_str = [ast_1, ast_2, ast_3, ast_4]"
   ]
  }
 ],
 "metadata": {
  "kernelspec": {
   "display_name": "Python 3",
   "language": "python",
   "name": "python3"
  },
  "language_info": {
   "codemirror_mode": {
    "name": "ipython",
    "version": 3
   },
   "file_extension": ".py",
   "mimetype": "text/x-python",
   "name": "python",
   "nbconvert_exporter": "python",
   "pygments_lexer": "ipython3",
   "version": "3.9.13"
  },
  "orig_nbformat": 4
 },
 "nbformat": 4,
 "nbformat_minor": 2
}
